{
 "cells": [
  {
   "cell_type": "code",
   "execution_count": 3,
   "id": "e3b7b5d6",
   "metadata": {},
   "outputs": [
    {
     "data": {
      "text/html": [
       "<div>\n",
       "<style scoped>\n",
       "    .dataframe tbody tr th:only-of-type {\n",
       "        vertical-align: middle;\n",
       "    }\n",
       "\n",
       "    .dataframe tbody tr th {\n",
       "        vertical-align: top;\n",
       "    }\n",
       "\n",
       "    .dataframe thead th {\n",
       "        text-align: right;\n",
       "    }\n",
       "</style>\n",
       "<table border=\"1\" class=\"dataframe\">\n",
       "  <thead>\n",
       "    <tr style=\"text-align: right;\">\n",
       "      <th></th>\n",
       "      <th>handle</th>\n",
       "      <th>rating</th>\n",
       "      <th>maxRating</th>\n",
       "      <th>rank</th>\n",
       "      <th>maxRank</th>\n",
       "      <th>friends</th>\n",
       "      <th>contributions</th>\n",
       "      <th>country</th>\n",
       "      <th>city</th>\n",
       "      <th>organization</th>\n",
       "      <th>avatar link</th>\n",
       "    </tr>\n",
       "  </thead>\n",
       "  <tbody>\n",
       "    <tr>\n",
       "      <th>0</th>\n",
       "      <td>nikhithareddy566</td>\n",
       "      <td>477.0</td>\n",
       "      <td>874.0</td>\n",
       "      <td>newbie</td>\n",
       "      <td>newbie</td>\n",
       "      <td>1</td>\n",
       "      <td>0</td>\n",
       "      <td>NaN</td>\n",
       "      <td>NaN</td>\n",
       "      <td>NaN</td>\n",
       "      <td>https://userpic.codeforces.org/no-avatar.jpg</td>\n",
       "    </tr>\n",
       "    <tr>\n",
       "      <th>1</th>\n",
       "      <td>obeyarrow1992</td>\n",
       "      <td>404.0</td>\n",
       "      <td>404.0</td>\n",
       "      <td>newbie</td>\n",
       "      <td>newbie</td>\n",
       "      <td>0</td>\n",
       "      <td>0</td>\n",
       "      <td>NaN</td>\n",
       "      <td>NaN</td>\n",
       "      <td>NaN</td>\n",
       "      <td>https://userpic.codeforces.org/no-avatar.jpg</td>\n",
       "    </tr>\n",
       "    <tr>\n",
       "      <th>2</th>\n",
       "      <td>jack_100</td>\n",
       "      <td>1372.0</td>\n",
       "      <td>1372.0</td>\n",
       "      <td>pupil</td>\n",
       "      <td>pupil</td>\n",
       "      <td>3</td>\n",
       "      <td>0</td>\n",
       "      <td>NaN</td>\n",
       "      <td>NaN</td>\n",
       "      <td>NaN</td>\n",
       "      <td>https://userpic.codeforces.org/no-avatar.jpg</td>\n",
       "    </tr>\n",
       "    <tr>\n",
       "      <th>3</th>\n",
       "      <td>musaleshubham12</td>\n",
       "      <td>839.0</td>\n",
       "      <td>839.0</td>\n",
       "      <td>newbie</td>\n",
       "      <td>newbie</td>\n",
       "      <td>0</td>\n",
       "      <td>0</td>\n",
       "      <td>NaN</td>\n",
       "      <td>NaN</td>\n",
       "      <td>NaN</td>\n",
       "      <td>https://userpic.codeforces.org/no-avatar.jpg</td>\n",
       "    </tr>\n",
       "    <tr>\n",
       "      <th>4</th>\n",
       "      <td>CastroMaximo</td>\n",
       "      <td>358.0</td>\n",
       "      <td>358.0</td>\n",
       "      <td>newbie</td>\n",
       "      <td>newbie</td>\n",
       "      <td>0</td>\n",
       "      <td>0</td>\n",
       "      <td>NaN</td>\n",
       "      <td>NaN</td>\n",
       "      <td>NaN</td>\n",
       "      <td>https://userpic.codeforces.org/no-avatar.jpg</td>\n",
       "    </tr>\n",
       "  </tbody>\n",
       "</table>\n",
       "</div>"
      ],
      "text/plain": [
       "             handle  rating  maxRating    rank maxRank  friends  \\\n",
       "0  nikhithareddy566   477.0      874.0  newbie  newbie        1   \n",
       "1     obeyarrow1992   404.0      404.0  newbie  newbie        0   \n",
       "2          jack_100  1372.0     1372.0   pupil   pupil        3   \n",
       "3   musaleshubham12   839.0      839.0  newbie  newbie        0   \n",
       "4      CastroMaximo   358.0      358.0  newbie  newbie        0   \n",
       "\n",
       "   contributions country city organization  \\\n",
       "0              0     NaN  NaN          NaN   \n",
       "1              0     NaN  NaN          NaN   \n",
       "2              0     NaN  NaN          NaN   \n",
       "3              0     NaN  NaN          NaN   \n",
       "4              0     NaN  NaN          NaN   \n",
       "\n",
       "                                    avatar link  \n",
       "0  https://userpic.codeforces.org/no-avatar.jpg  \n",
       "1  https://userpic.codeforces.org/no-avatar.jpg  \n",
       "2  https://userpic.codeforces.org/no-avatar.jpg  \n",
       "3  https://userpic.codeforces.org/no-avatar.jpg  \n",
       "4  https://userpic.codeforces.org/no-avatar.jpg  "
      ]
     },
     "execution_count": 3,
     "metadata": {},
     "output_type": "execute_result"
    }
   ],
   "source": [
    "import pandas as pd\n",
    "df = pd.read_csv('fulldata.csv')\n",
    "df.head()"
   ]
  },
  {
   "cell_type": "code",
   "execution_count": 5,
   "id": "34be22cb",
   "metadata": {},
   "outputs": [
    {
     "data": {
      "text/plain": [
       "np.int64(416061)"
      ]
     },
     "execution_count": 5,
     "metadata": {},
     "output_type": "execute_result"
    }
   ],
   "source": [
    "df['rank'].value_counts().sum()"
   ]
  },
  {
   "cell_type": "code",
   "execution_count": 14,
   "id": "c8e2f40d",
   "metadata": {},
   "outputs": [
    {
     "data": {
      "text/plain": [
       "385798    3777.0\n",
       "236042    3756.0\n",
       "376917    3696.0\n",
       "296280    3682.0\n",
       "120961    3647.0\n",
       "           ...  \n",
       "423875       NaN\n",
       "423915       NaN\n",
       "423980       NaN\n",
       "424008       NaN\n",
       "424035       NaN\n",
       "Name: rating, Length: 424061, dtype: float64"
      ]
     },
     "execution_count": 14,
     "metadata": {},
     "output_type": "execute_result"
    }
   ],
   "source": [
    "df['rating'].sort_values(ascending=False)"
   ]
  },
  {
   "cell_type": "code",
   "execution_count": null,
   "id": "bb887c9a",
   "metadata": {},
   "outputs": [],
   "source": []
  }
 ],
 "metadata": {
  "kernelspec": {
   "display_name": ".venv",
   "language": "python",
   "name": "python3"
  },
  "language_info": {
   "codemirror_mode": {
    "name": "ipython",
    "version": 3
   },
   "file_extension": ".py",
   "mimetype": "text/x-python",
   "name": "python",
   "nbconvert_exporter": "python",
   "pygments_lexer": "ipython3",
   "version": "3.10.16"
  }
 },
 "nbformat": 4,
 "nbformat_minor": 5
}
